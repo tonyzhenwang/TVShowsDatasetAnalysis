{
 "cells": [
  {
   "cell_type": "markdown",
   "metadata": {},
   "source": [
    "<h1>1. Introduction</h1>"
   ]
  },
  {
   "cell_type": "markdown",
   "metadata": {},
   "source": [
    "We will be exploring the [TV Shows dataset](https://www.kaggle.com/ruchi798/tv-shows-on-netflix-prime-video-hulu-and-disney) by Ruchi Bhatia. This dataset contain TV show titles, the year it is produced, its target age group, IMDb and Rotten Tomatoes ratings, and which streaming platform they can be found on, ie. Netflix, Hulu, Prime Video, and Disney+."
   ]
  },
  {
   "cell_type": "markdown",
   "metadata": {},
   "source": [
    "This Jupyter Notebook will look at which platform has better exclusive shows in terms of ratings. Is there a streaming platform that has way better exclusive shows and is the obvious choice to subscribe to? Or are all the platforms similar and the only way to choose is looking at specific titles that one might be interested in? This is one area of the dataset that we will explore. Another idea is that we will examine is whether IMDb and Rotten Tomatoes ratings are correlated with each other. Are the two sites offering the same opinion? Or are they more varied and have different things to say about each show?"
   ]
  },
  {
   "cell_type": "markdown",
   "metadata": {},
   "source": [
    "<h2>1.1. Python Libraries and Loading the Data</h2>"
   ]
  },
  {
   "cell_type": "markdown",
   "metadata": {},
   "source": [
    "To start, we need to import a few libraries. We will use Pandas to store and make changes to our dataset, such as data cleaning and analysis. Then we will use Matplotlob and Seaborn to create visualizations. We will also use linear model from Sklearn to get the line of best fit to annotate our chart."
   ]
  },
  {
   "cell_type": "code",
   "execution_count": 1,
   "metadata": {
    "scrolled": false
   },
   "outputs": [],
   "source": [
    "import pandas as pd\n",
    "from matplotlib import pyplot as plt\n",
    "import seaborn as sns\n",
    "from sklearn.linear_model import LinearRegression"
   ]
  },
  {
   "cell_type": "markdown",
   "metadata": {},
   "source": [
    "Load the downloaded dataset into a Pandas dataframe."
   ]
  },
  {
   "cell_type": "code",
   "execution_count": 2,
   "metadata": {
    "scrolled": false
   },
   "outputs": [
    {
     "data": {
      "text/html": [
       "<div>\n",
       "<style scoped>\n",
       "    .dataframe tbody tr th:only-of-type {\n",
       "        vertical-align: middle;\n",
       "    }\n",
       "\n",
       "    .dataframe tbody tr th {\n",
       "        vertical-align: top;\n",
       "    }\n",
       "\n",
       "    .dataframe thead th {\n",
       "        text-align: right;\n",
       "    }\n",
       "</style>\n",
       "<table border=\"1\" class=\"dataframe\">\n",
       "  <thead>\n",
       "    <tr style=\"text-align: right;\">\n",
       "      <th></th>\n",
       "      <th>Unnamed: 0</th>\n",
       "      <th>Title</th>\n",
       "      <th>Year</th>\n",
       "      <th>Age</th>\n",
       "      <th>IMDb</th>\n",
       "      <th>Rotten Tomatoes</th>\n",
       "      <th>Netflix</th>\n",
       "      <th>Hulu</th>\n",
       "      <th>Prime Video</th>\n",
       "      <th>Disney+</th>\n",
       "      <th>type</th>\n",
       "    </tr>\n",
       "  </thead>\n",
       "  <tbody>\n",
       "    <tr>\n",
       "      <th>0</th>\n",
       "      <td>0</td>\n",
       "      <td>Breaking Bad</td>\n",
       "      <td>2008</td>\n",
       "      <td>18+</td>\n",
       "      <td>9.5</td>\n",
       "      <td>96%</td>\n",
       "      <td>1</td>\n",
       "      <td>0</td>\n",
       "      <td>0</td>\n",
       "      <td>0</td>\n",
       "      <td>1</td>\n",
       "    </tr>\n",
       "    <tr>\n",
       "      <th>1</th>\n",
       "      <td>1</td>\n",
       "      <td>Stranger Things</td>\n",
       "      <td>2016</td>\n",
       "      <td>16+</td>\n",
       "      <td>8.8</td>\n",
       "      <td>93%</td>\n",
       "      <td>1</td>\n",
       "      <td>0</td>\n",
       "      <td>0</td>\n",
       "      <td>0</td>\n",
       "      <td>1</td>\n",
       "    </tr>\n",
       "    <tr>\n",
       "      <th>2</th>\n",
       "      <td>2</td>\n",
       "      <td>Money Heist</td>\n",
       "      <td>2017</td>\n",
       "      <td>18+</td>\n",
       "      <td>8.4</td>\n",
       "      <td>91%</td>\n",
       "      <td>1</td>\n",
       "      <td>0</td>\n",
       "      <td>0</td>\n",
       "      <td>0</td>\n",
       "      <td>1</td>\n",
       "    </tr>\n",
       "    <tr>\n",
       "      <th>3</th>\n",
       "      <td>3</td>\n",
       "      <td>Sherlock</td>\n",
       "      <td>2010</td>\n",
       "      <td>16+</td>\n",
       "      <td>9.1</td>\n",
       "      <td>78%</td>\n",
       "      <td>1</td>\n",
       "      <td>0</td>\n",
       "      <td>0</td>\n",
       "      <td>0</td>\n",
       "      <td>1</td>\n",
       "    </tr>\n",
       "    <tr>\n",
       "      <th>4</th>\n",
       "      <td>4</td>\n",
       "      <td>Better Call Saul</td>\n",
       "      <td>2015</td>\n",
       "      <td>18+</td>\n",
       "      <td>8.7</td>\n",
       "      <td>97%</td>\n",
       "      <td>1</td>\n",
       "      <td>0</td>\n",
       "      <td>0</td>\n",
       "      <td>0</td>\n",
       "      <td>1</td>\n",
       "    </tr>\n",
       "    <tr>\n",
       "      <th>...</th>\n",
       "      <td>...</td>\n",
       "      <td>...</td>\n",
       "      <td>...</td>\n",
       "      <td>...</td>\n",
       "      <td>...</td>\n",
       "      <td>...</td>\n",
       "      <td>...</td>\n",
       "      <td>...</td>\n",
       "      <td>...</td>\n",
       "      <td>...</td>\n",
       "      <td>...</td>\n",
       "    </tr>\n",
       "    <tr>\n",
       "      <th>5606</th>\n",
       "      <td>5606</td>\n",
       "      <td>Tut's Treasures: Hidden Secrets</td>\n",
       "      <td>2018</td>\n",
       "      <td>NaN</td>\n",
       "      <td>NaN</td>\n",
       "      <td>NaN</td>\n",
       "      <td>0</td>\n",
       "      <td>0</td>\n",
       "      <td>0</td>\n",
       "      <td>1</td>\n",
       "      <td>1</td>\n",
       "    </tr>\n",
       "    <tr>\n",
       "      <th>5607</th>\n",
       "      <td>5607</td>\n",
       "      <td>Paradise Islands</td>\n",
       "      <td>2017</td>\n",
       "      <td>NaN</td>\n",
       "      <td>NaN</td>\n",
       "      <td>NaN</td>\n",
       "      <td>0</td>\n",
       "      <td>0</td>\n",
       "      <td>0</td>\n",
       "      <td>1</td>\n",
       "      <td>1</td>\n",
       "    </tr>\n",
       "    <tr>\n",
       "      <th>5608</th>\n",
       "      <td>5608</td>\n",
       "      <td>Wild Russia</td>\n",
       "      <td>2018</td>\n",
       "      <td>NaN</td>\n",
       "      <td>NaN</td>\n",
       "      <td>NaN</td>\n",
       "      <td>0</td>\n",
       "      <td>0</td>\n",
       "      <td>0</td>\n",
       "      <td>1</td>\n",
       "      <td>1</td>\n",
       "    </tr>\n",
       "    <tr>\n",
       "      <th>5609</th>\n",
       "      <td>5609</td>\n",
       "      <td>Love &amp; Vets</td>\n",
       "      <td>2017</td>\n",
       "      <td>NaN</td>\n",
       "      <td>NaN</td>\n",
       "      <td>NaN</td>\n",
       "      <td>0</td>\n",
       "      <td>0</td>\n",
       "      <td>0</td>\n",
       "      <td>1</td>\n",
       "      <td>1</td>\n",
       "    </tr>\n",
       "    <tr>\n",
       "      <th>5610</th>\n",
       "      <td>5610</td>\n",
       "      <td>United States of Animals</td>\n",
       "      <td>2016</td>\n",
       "      <td>NaN</td>\n",
       "      <td>NaN</td>\n",
       "      <td>NaN</td>\n",
       "      <td>0</td>\n",
       "      <td>0</td>\n",
       "      <td>0</td>\n",
       "      <td>1</td>\n",
       "      <td>1</td>\n",
       "    </tr>\n",
       "  </tbody>\n",
       "</table>\n",
       "<p>5611 rows × 11 columns</p>\n",
       "</div>"
      ],
      "text/plain": [
       "      Unnamed: 0                            Title  Year  Age  IMDb  \\\n",
       "0              0                     Breaking Bad  2008  18+   9.5   \n",
       "1              1                  Stranger Things  2016  16+   8.8   \n",
       "2              2                      Money Heist  2017  18+   8.4   \n",
       "3              3                         Sherlock  2010  16+   9.1   \n",
       "4              4                 Better Call Saul  2015  18+   8.7   \n",
       "...          ...                              ...   ...  ...   ...   \n",
       "5606        5606  Tut's Treasures: Hidden Secrets  2018  NaN   NaN   \n",
       "5607        5607                 Paradise Islands  2017  NaN   NaN   \n",
       "5608        5608                      Wild Russia  2018  NaN   NaN   \n",
       "5609        5609                      Love & Vets  2017  NaN   NaN   \n",
       "5610        5610         United States of Animals  2016  NaN   NaN   \n",
       "\n",
       "     Rotten Tomatoes  Netflix  Hulu  Prime Video  Disney+  type  \n",
       "0                96%        1     0            0        0     1  \n",
       "1                93%        1     0            0        0     1  \n",
       "2                91%        1     0            0        0     1  \n",
       "3                78%        1     0            0        0     1  \n",
       "4                97%        1     0            0        0     1  \n",
       "...              ...      ...   ...          ...      ...   ...  \n",
       "5606             NaN        0     0            0        1     1  \n",
       "5607             NaN        0     0            0        1     1  \n",
       "5608             NaN        0     0            0        1     1  \n",
       "5609             NaN        0     0            0        1     1  \n",
       "5610             NaN        0     0            0        1     1  \n",
       "\n",
       "[5611 rows x 11 columns]"
      ]
     },
     "execution_count": 2,
     "metadata": {},
     "output_type": "execute_result"
    }
   ],
   "source": [
    "path = \"tv_shows.csv\"\n",
    "df = pd.read_csv(path)\n",
    "df"
   ]
  },
  {
   "cell_type": "markdown",
   "metadata": {},
   "source": [
    "<h1>2. Data Cleaning & Pre-processing</h1>"
   ]
  },
  {
   "cell_type": "markdown",
   "metadata": {},
   "source": [
    "There seems to be columns containing irrelevant information, we can remove them."
   ]
  },
  {
   "cell_type": "code",
   "execution_count": 3,
   "metadata": {
    "scrolled": false
   },
   "outputs": [
    {
     "data": {
      "text/html": [
       "<div>\n",
       "<style scoped>\n",
       "    .dataframe tbody tr th:only-of-type {\n",
       "        vertical-align: middle;\n",
       "    }\n",
       "\n",
       "    .dataframe tbody tr th {\n",
       "        vertical-align: top;\n",
       "    }\n",
       "\n",
       "    .dataframe thead th {\n",
       "        text-align: right;\n",
       "    }\n",
       "</style>\n",
       "<table border=\"1\" class=\"dataframe\">\n",
       "  <thead>\n",
       "    <tr style=\"text-align: right;\">\n",
       "      <th></th>\n",
       "      <th>Title</th>\n",
       "      <th>Year</th>\n",
       "      <th>Age</th>\n",
       "      <th>IMDb</th>\n",
       "      <th>Rotten Tomatoes</th>\n",
       "      <th>Netflix</th>\n",
       "      <th>Hulu</th>\n",
       "      <th>Prime Video</th>\n",
       "      <th>Disney+</th>\n",
       "    </tr>\n",
       "  </thead>\n",
       "  <tbody>\n",
       "    <tr>\n",
       "      <th>0</th>\n",
       "      <td>Breaking Bad</td>\n",
       "      <td>2008</td>\n",
       "      <td>18+</td>\n",
       "      <td>9.5</td>\n",
       "      <td>96%</td>\n",
       "      <td>1</td>\n",
       "      <td>0</td>\n",
       "      <td>0</td>\n",
       "      <td>0</td>\n",
       "    </tr>\n",
       "    <tr>\n",
       "      <th>1</th>\n",
       "      <td>Stranger Things</td>\n",
       "      <td>2016</td>\n",
       "      <td>16+</td>\n",
       "      <td>8.8</td>\n",
       "      <td>93%</td>\n",
       "      <td>1</td>\n",
       "      <td>0</td>\n",
       "      <td>0</td>\n",
       "      <td>0</td>\n",
       "    </tr>\n",
       "    <tr>\n",
       "      <th>2</th>\n",
       "      <td>Money Heist</td>\n",
       "      <td>2017</td>\n",
       "      <td>18+</td>\n",
       "      <td>8.4</td>\n",
       "      <td>91%</td>\n",
       "      <td>1</td>\n",
       "      <td>0</td>\n",
       "      <td>0</td>\n",
       "      <td>0</td>\n",
       "    </tr>\n",
       "    <tr>\n",
       "      <th>3</th>\n",
       "      <td>Sherlock</td>\n",
       "      <td>2010</td>\n",
       "      <td>16+</td>\n",
       "      <td>9.1</td>\n",
       "      <td>78%</td>\n",
       "      <td>1</td>\n",
       "      <td>0</td>\n",
       "      <td>0</td>\n",
       "      <td>0</td>\n",
       "    </tr>\n",
       "    <tr>\n",
       "      <th>4</th>\n",
       "      <td>Better Call Saul</td>\n",
       "      <td>2015</td>\n",
       "      <td>18+</td>\n",
       "      <td>8.7</td>\n",
       "      <td>97%</td>\n",
       "      <td>1</td>\n",
       "      <td>0</td>\n",
       "      <td>0</td>\n",
       "      <td>0</td>\n",
       "    </tr>\n",
       "    <tr>\n",
       "      <th>...</th>\n",
       "      <td>...</td>\n",
       "      <td>...</td>\n",
       "      <td>...</td>\n",
       "      <td>...</td>\n",
       "      <td>...</td>\n",
       "      <td>...</td>\n",
       "      <td>...</td>\n",
       "      <td>...</td>\n",
       "      <td>...</td>\n",
       "    </tr>\n",
       "    <tr>\n",
       "      <th>5606</th>\n",
       "      <td>Tut's Treasures: Hidden Secrets</td>\n",
       "      <td>2018</td>\n",
       "      <td>NaN</td>\n",
       "      <td>NaN</td>\n",
       "      <td>NaN</td>\n",
       "      <td>0</td>\n",
       "      <td>0</td>\n",
       "      <td>0</td>\n",
       "      <td>1</td>\n",
       "    </tr>\n",
       "    <tr>\n",
       "      <th>5607</th>\n",
       "      <td>Paradise Islands</td>\n",
       "      <td>2017</td>\n",
       "      <td>NaN</td>\n",
       "      <td>NaN</td>\n",
       "      <td>NaN</td>\n",
       "      <td>0</td>\n",
       "      <td>0</td>\n",
       "      <td>0</td>\n",
       "      <td>1</td>\n",
       "    </tr>\n",
       "    <tr>\n",
       "      <th>5608</th>\n",
       "      <td>Wild Russia</td>\n",
       "      <td>2018</td>\n",
       "      <td>NaN</td>\n",
       "      <td>NaN</td>\n",
       "      <td>NaN</td>\n",
       "      <td>0</td>\n",
       "      <td>0</td>\n",
       "      <td>0</td>\n",
       "      <td>1</td>\n",
       "    </tr>\n",
       "    <tr>\n",
       "      <th>5609</th>\n",
       "      <td>Love &amp; Vets</td>\n",
       "      <td>2017</td>\n",
       "      <td>NaN</td>\n",
       "      <td>NaN</td>\n",
       "      <td>NaN</td>\n",
       "      <td>0</td>\n",
       "      <td>0</td>\n",
       "      <td>0</td>\n",
       "      <td>1</td>\n",
       "    </tr>\n",
       "    <tr>\n",
       "      <th>5610</th>\n",
       "      <td>United States of Animals</td>\n",
       "      <td>2016</td>\n",
       "      <td>NaN</td>\n",
       "      <td>NaN</td>\n",
       "      <td>NaN</td>\n",
       "      <td>0</td>\n",
       "      <td>0</td>\n",
       "      <td>0</td>\n",
       "      <td>1</td>\n",
       "    </tr>\n",
       "  </tbody>\n",
       "</table>\n",
       "<p>5611 rows × 9 columns</p>\n",
       "</div>"
      ],
      "text/plain": [
       "                                Title  Year  Age  IMDb Rotten Tomatoes  \\\n",
       "0                        Breaking Bad  2008  18+   9.5             96%   \n",
       "1                     Stranger Things  2016  16+   8.8             93%   \n",
       "2                         Money Heist  2017  18+   8.4             91%   \n",
       "3                            Sherlock  2010  16+   9.1             78%   \n",
       "4                    Better Call Saul  2015  18+   8.7             97%   \n",
       "...                               ...   ...  ...   ...             ...   \n",
       "5606  Tut's Treasures: Hidden Secrets  2018  NaN   NaN             NaN   \n",
       "5607                 Paradise Islands  2017  NaN   NaN             NaN   \n",
       "5608                      Wild Russia  2018  NaN   NaN             NaN   \n",
       "5609                      Love & Vets  2017  NaN   NaN             NaN   \n",
       "5610         United States of Animals  2016  NaN   NaN             NaN   \n",
       "\n",
       "      Netflix  Hulu  Prime Video  Disney+  \n",
       "0           1     0            0        0  \n",
       "1           1     0            0        0  \n",
       "2           1     0            0        0  \n",
       "3           1     0            0        0  \n",
       "4           1     0            0        0  \n",
       "...       ...   ...          ...      ...  \n",
       "5606        0     0            0        1  \n",
       "5607        0     0            0        1  \n",
       "5608        0     0            0        1  \n",
       "5609        0     0            0        1  \n",
       "5610        0     0            0        1  \n",
       "\n",
       "[5611 rows x 9 columns]"
      ]
     },
     "execution_count": 3,
     "metadata": {},
     "output_type": "execute_result"
    }
   ],
   "source": [
    "df.drop([\"Unnamed: 0\", \"type\"], axis = 1, inplace = True)\n",
    "df"
   ]
  },
  {
   "cell_type": "markdown",
   "metadata": {},
   "source": [
    "We will remove rows that don't have IMDb and Rotten Tomatoes ratings for our analysis."
   ]
  },
  {
   "cell_type": "code",
   "execution_count": 4,
   "metadata": {
    "scrolled": false
   },
   "outputs": [
    {
     "data": {
      "text/html": [
       "<div>\n",
       "<style scoped>\n",
       "    .dataframe tbody tr th:only-of-type {\n",
       "        vertical-align: middle;\n",
       "    }\n",
       "\n",
       "    .dataframe tbody tr th {\n",
       "        vertical-align: top;\n",
       "    }\n",
       "\n",
       "    .dataframe thead th {\n",
       "        text-align: right;\n",
       "    }\n",
       "</style>\n",
       "<table border=\"1\" class=\"dataframe\">\n",
       "  <thead>\n",
       "    <tr style=\"text-align: right;\">\n",
       "      <th></th>\n",
       "      <th>Title</th>\n",
       "      <th>Year</th>\n",
       "      <th>Age</th>\n",
       "      <th>IMDb</th>\n",
       "      <th>Rotten Tomatoes</th>\n",
       "      <th>Netflix</th>\n",
       "      <th>Hulu</th>\n",
       "      <th>Prime Video</th>\n",
       "      <th>Disney+</th>\n",
       "    </tr>\n",
       "  </thead>\n",
       "  <tbody>\n",
       "    <tr>\n",
       "      <th>0</th>\n",
       "      <td>Breaking Bad</td>\n",
       "      <td>2008</td>\n",
       "      <td>18+</td>\n",
       "      <td>9.5</td>\n",
       "      <td>96%</td>\n",
       "      <td>1</td>\n",
       "      <td>0</td>\n",
       "      <td>0</td>\n",
       "      <td>0</td>\n",
       "    </tr>\n",
       "    <tr>\n",
       "      <th>1</th>\n",
       "      <td>Stranger Things</td>\n",
       "      <td>2016</td>\n",
       "      <td>16+</td>\n",
       "      <td>8.8</td>\n",
       "      <td>93%</td>\n",
       "      <td>1</td>\n",
       "      <td>0</td>\n",
       "      <td>0</td>\n",
       "      <td>0</td>\n",
       "    </tr>\n",
       "    <tr>\n",
       "      <th>2</th>\n",
       "      <td>Money Heist</td>\n",
       "      <td>2017</td>\n",
       "      <td>18+</td>\n",
       "      <td>8.4</td>\n",
       "      <td>91%</td>\n",
       "      <td>1</td>\n",
       "      <td>0</td>\n",
       "      <td>0</td>\n",
       "      <td>0</td>\n",
       "    </tr>\n",
       "    <tr>\n",
       "      <th>3</th>\n",
       "      <td>Sherlock</td>\n",
       "      <td>2010</td>\n",
       "      <td>16+</td>\n",
       "      <td>9.1</td>\n",
       "      <td>78%</td>\n",
       "      <td>1</td>\n",
       "      <td>0</td>\n",
       "      <td>0</td>\n",
       "      <td>0</td>\n",
       "    </tr>\n",
       "    <tr>\n",
       "      <th>4</th>\n",
       "      <td>Better Call Saul</td>\n",
       "      <td>2015</td>\n",
       "      <td>18+</td>\n",
       "      <td>8.7</td>\n",
       "      <td>97%</td>\n",
       "      <td>1</td>\n",
       "      <td>0</td>\n",
       "      <td>0</td>\n",
       "      <td>0</td>\n",
       "    </tr>\n",
       "    <tr>\n",
       "      <th>...</th>\n",
       "      <td>...</td>\n",
       "      <td>...</td>\n",
       "      <td>...</td>\n",
       "      <td>...</td>\n",
       "      <td>...</td>\n",
       "      <td>...</td>\n",
       "      <td>...</td>\n",
       "      <td>...</td>\n",
       "      <td>...</td>\n",
       "    </tr>\n",
       "    <tr>\n",
       "      <th>5509</th>\n",
       "      <td>Diary of a Future President</td>\n",
       "      <td>2020</td>\n",
       "      <td>7+</td>\n",
       "      <td>5.5</td>\n",
       "      <td>100%</td>\n",
       "      <td>0</td>\n",
       "      <td>0</td>\n",
       "      <td>0</td>\n",
       "      <td>1</td>\n",
       "    </tr>\n",
       "    <tr>\n",
       "      <th>5517</th>\n",
       "      <td>Encore!</td>\n",
       "      <td>2019</td>\n",
       "      <td>7+</td>\n",
       "      <td>7.4</td>\n",
       "      <td>68%</td>\n",
       "      <td>0</td>\n",
       "      <td>0</td>\n",
       "      <td>0</td>\n",
       "      <td>1</td>\n",
       "    </tr>\n",
       "    <tr>\n",
       "      <th>5522</th>\n",
       "      <td>Spider-Man Unlimited</td>\n",
       "      <td>1999</td>\n",
       "      <td>7+</td>\n",
       "      <td>6.5</td>\n",
       "      <td>50%</td>\n",
       "      <td>0</td>\n",
       "      <td>0</td>\n",
       "      <td>0</td>\n",
       "      <td>1</td>\n",
       "    </tr>\n",
       "    <tr>\n",
       "      <th>5530</th>\n",
       "      <td>The Super Hero Squad Show</td>\n",
       "      <td>2009</td>\n",
       "      <td>7+</td>\n",
       "      <td>6.1</td>\n",
       "      <td>50%</td>\n",
       "      <td>0</td>\n",
       "      <td>0</td>\n",
       "      <td>0</td>\n",
       "      <td>1</td>\n",
       "    </tr>\n",
       "    <tr>\n",
       "      <th>5575</th>\n",
       "      <td>Marvel's Hero Project</td>\n",
       "      <td>2019</td>\n",
       "      <td>7+</td>\n",
       "      <td>6.1</td>\n",
       "      <td>92%</td>\n",
       "      <td>0</td>\n",
       "      <td>0</td>\n",
       "      <td>0</td>\n",
       "      <td>1</td>\n",
       "    </tr>\n",
       "  </tbody>\n",
       "</table>\n",
       "<p>1008 rows × 9 columns</p>\n",
       "</div>"
      ],
      "text/plain": [
       "                            Title  Year  Age  IMDb Rotten Tomatoes  Netflix  \\\n",
       "0                    Breaking Bad  2008  18+   9.5             96%        1   \n",
       "1                 Stranger Things  2016  16+   8.8             93%        1   \n",
       "2                     Money Heist  2017  18+   8.4             91%        1   \n",
       "3                        Sherlock  2010  16+   9.1             78%        1   \n",
       "4                Better Call Saul  2015  18+   8.7             97%        1   \n",
       "...                           ...   ...  ...   ...             ...      ...   \n",
       "5509  Diary of a Future President  2020   7+   5.5            100%        0   \n",
       "5517                      Encore!  2019   7+   7.4             68%        0   \n",
       "5522         Spider-Man Unlimited  1999   7+   6.5             50%        0   \n",
       "5530    The Super Hero Squad Show  2009   7+   6.1             50%        0   \n",
       "5575        Marvel's Hero Project  2019   7+   6.1             92%        0   \n",
       "\n",
       "      Hulu  Prime Video  Disney+  \n",
       "0        0            0        0  \n",
       "1        0            0        0  \n",
       "2        0            0        0  \n",
       "3        0            0        0  \n",
       "4        0            0        0  \n",
       "...    ...          ...      ...  \n",
       "5509     0            0        1  \n",
       "5517     0            0        1  \n",
       "5522     0            0        1  \n",
       "5530     0            0        1  \n",
       "5575     0            0        1  \n",
       "\n",
       "[1008 rows x 9 columns]"
      ]
     },
     "execution_count": 4,
     "metadata": {},
     "output_type": "execute_result"
    }
   ],
   "source": [
    "df = df.dropna(subset = [\"IMDb\"])\n",
    "df = df.dropna(subset = [\"Rotten Tomatoes\"])\n",
    "df"
   ]
  },
  {
   "cell_type": "markdown",
   "metadata": {},
   "source": [
    "Looking at the dataset column values, there are percentage signs under Rotten Tomatoes. This column is object type and will cause issues when we calculate the average ratings. Let's change it to numeric type."
   ]
  },
  {
   "cell_type": "code",
   "execution_count": 5,
   "metadata": {
    "scrolled": false
   },
   "outputs": [
    {
     "data": {
      "text/plain": [
       "Title               object\n",
       "Year                 int64\n",
       "Age                 object\n",
       "IMDb               float64\n",
       "Rotten Tomatoes     object\n",
       "Netflix              int64\n",
       "Hulu                 int64\n",
       "Prime Video          int64\n",
       "Disney+              int64\n",
       "dtype: object"
      ]
     },
     "execution_count": 5,
     "metadata": {},
     "output_type": "execute_result"
    }
   ],
   "source": [
    "# Check datatype of columns\n",
    "df.dtypes"
   ]
  },
  {
   "cell_type": "code",
   "execution_count": 6,
   "metadata": {
    "scrolled": false
   },
   "outputs": [],
   "source": [
    "# Remove percentage sign from Rotten Tomatoes and convert column to numeric type\n",
    "df[\"Rotten Tomatoes\"] = df[\"Rotten Tomatoes\"].str.replace(\"%\", \"\")\n",
    "df[\"Rotten Tomatoes\"] = pd.to_numeric(df[\"Rotten Tomatoes\"]) "
   ]
  },
  {
   "cell_type": "markdown",
   "metadata": {},
   "source": [
    "Since we want to examine platform exclusive shows, we need a way to separate them from shows that appear on multiple platforms."
   ]
  },
  {
   "cell_type": "code",
   "execution_count": 7,
   "metadata": {
    "scrolled": false
   },
   "outputs": [
    {
     "data": {
      "text/html": [
       "<div>\n",
       "<style scoped>\n",
       "    .dataframe tbody tr th:only-of-type {\n",
       "        vertical-align: middle;\n",
       "    }\n",
       "\n",
       "    .dataframe tbody tr th {\n",
       "        vertical-align: top;\n",
       "    }\n",
       "\n",
       "    .dataframe thead th {\n",
       "        text-align: right;\n",
       "    }\n",
       "</style>\n",
       "<table border=\"1\" class=\"dataframe\">\n",
       "  <thead>\n",
       "    <tr style=\"text-align: right;\">\n",
       "      <th></th>\n",
       "      <th>Title</th>\n",
       "      <th>Year</th>\n",
       "      <th>Age</th>\n",
       "      <th>IMDb</th>\n",
       "      <th>Rotten Tomatoes</th>\n",
       "      <th>Netflix</th>\n",
       "      <th>Hulu</th>\n",
       "      <th>Prime Video</th>\n",
       "      <th>Disney+</th>\n",
       "    </tr>\n",
       "  </thead>\n",
       "  <tbody>\n",
       "    <tr>\n",
       "      <th>0</th>\n",
       "      <td>Breaking Bad</td>\n",
       "      <td>2008</td>\n",
       "      <td>18+</td>\n",
       "      <td>9.5</td>\n",
       "      <td>96</td>\n",
       "      <td>1</td>\n",
       "      <td>0</td>\n",
       "      <td>0</td>\n",
       "      <td>0</td>\n",
       "    </tr>\n",
       "    <tr>\n",
       "      <th>1</th>\n",
       "      <td>Stranger Things</td>\n",
       "      <td>2016</td>\n",
       "      <td>16+</td>\n",
       "      <td>8.8</td>\n",
       "      <td>93</td>\n",
       "      <td>1</td>\n",
       "      <td>0</td>\n",
       "      <td>0</td>\n",
       "      <td>0</td>\n",
       "    </tr>\n",
       "    <tr>\n",
       "      <th>2</th>\n",
       "      <td>Money Heist</td>\n",
       "      <td>2017</td>\n",
       "      <td>18+</td>\n",
       "      <td>8.4</td>\n",
       "      <td>91</td>\n",
       "      <td>1</td>\n",
       "      <td>0</td>\n",
       "      <td>0</td>\n",
       "      <td>0</td>\n",
       "    </tr>\n",
       "    <tr>\n",
       "      <th>3</th>\n",
       "      <td>Sherlock</td>\n",
       "      <td>2010</td>\n",
       "      <td>16+</td>\n",
       "      <td>9.1</td>\n",
       "      <td>78</td>\n",
       "      <td>1</td>\n",
       "      <td>0</td>\n",
       "      <td>0</td>\n",
       "      <td>0</td>\n",
       "    </tr>\n",
       "    <tr>\n",
       "      <th>4</th>\n",
       "      <td>Better Call Saul</td>\n",
       "      <td>2015</td>\n",
       "      <td>18+</td>\n",
       "      <td>8.7</td>\n",
       "      <td>97</td>\n",
       "      <td>1</td>\n",
       "      <td>0</td>\n",
       "      <td>0</td>\n",
       "      <td>0</td>\n",
       "    </tr>\n",
       "    <tr>\n",
       "      <th>...</th>\n",
       "      <td>...</td>\n",
       "      <td>...</td>\n",
       "      <td>...</td>\n",
       "      <td>...</td>\n",
       "      <td>...</td>\n",
       "      <td>...</td>\n",
       "      <td>...</td>\n",
       "      <td>...</td>\n",
       "      <td>...</td>\n",
       "    </tr>\n",
       "    <tr>\n",
       "      <th>5509</th>\n",
       "      <td>Diary of a Future President</td>\n",
       "      <td>2020</td>\n",
       "      <td>7+</td>\n",
       "      <td>5.5</td>\n",
       "      <td>100</td>\n",
       "      <td>0</td>\n",
       "      <td>0</td>\n",
       "      <td>0</td>\n",
       "      <td>1</td>\n",
       "    </tr>\n",
       "    <tr>\n",
       "      <th>5517</th>\n",
       "      <td>Encore!</td>\n",
       "      <td>2019</td>\n",
       "      <td>7+</td>\n",
       "      <td>7.4</td>\n",
       "      <td>68</td>\n",
       "      <td>0</td>\n",
       "      <td>0</td>\n",
       "      <td>0</td>\n",
       "      <td>1</td>\n",
       "    </tr>\n",
       "    <tr>\n",
       "      <th>5522</th>\n",
       "      <td>Spider-Man Unlimited</td>\n",
       "      <td>1999</td>\n",
       "      <td>7+</td>\n",
       "      <td>6.5</td>\n",
       "      <td>50</td>\n",
       "      <td>0</td>\n",
       "      <td>0</td>\n",
       "      <td>0</td>\n",
       "      <td>1</td>\n",
       "    </tr>\n",
       "    <tr>\n",
       "      <th>5530</th>\n",
       "      <td>The Super Hero Squad Show</td>\n",
       "      <td>2009</td>\n",
       "      <td>7+</td>\n",
       "      <td>6.1</td>\n",
       "      <td>50</td>\n",
       "      <td>0</td>\n",
       "      <td>0</td>\n",
       "      <td>0</td>\n",
       "      <td>1</td>\n",
       "    </tr>\n",
       "    <tr>\n",
       "      <th>5575</th>\n",
       "      <td>Marvel's Hero Project</td>\n",
       "      <td>2019</td>\n",
       "      <td>7+</td>\n",
       "      <td>6.1</td>\n",
       "      <td>92</td>\n",
       "      <td>0</td>\n",
       "      <td>0</td>\n",
       "      <td>0</td>\n",
       "      <td>1</td>\n",
       "    </tr>\n",
       "  </tbody>\n",
       "</table>\n",
       "<p>948 rows × 9 columns</p>\n",
       "</div>"
      ],
      "text/plain": [
       "                            Title  Year  Age  IMDb  Rotten Tomatoes  Netflix  \\\n",
       "0                    Breaking Bad  2008  18+   9.5               96        1   \n",
       "1                 Stranger Things  2016  16+   8.8               93        1   \n",
       "2                     Money Heist  2017  18+   8.4               91        1   \n",
       "3                        Sherlock  2010  16+   9.1               78        1   \n",
       "4                Better Call Saul  2015  18+   8.7               97        1   \n",
       "...                           ...   ...  ...   ...              ...      ...   \n",
       "5509  Diary of a Future President  2020   7+   5.5              100        0   \n",
       "5517                      Encore!  2019   7+   7.4               68        0   \n",
       "5522         Spider-Man Unlimited  1999   7+   6.5               50        0   \n",
       "5530    The Super Hero Squad Show  2009   7+   6.1               50        0   \n",
       "5575        Marvel's Hero Project  2019   7+   6.1               92        0   \n",
       "\n",
       "      Hulu  Prime Video  Disney+  \n",
       "0        0            0        0  \n",
       "1        0            0        0  \n",
       "2        0            0        0  \n",
       "3        0            0        0  \n",
       "4        0            0        0  \n",
       "...    ...          ...      ...  \n",
       "5509     0            0        1  \n",
       "5517     0            0        1  \n",
       "5522     0            0        1  \n",
       "5530     0            0        1  \n",
       "5575     0            0        1  \n",
       "\n",
       "[948 rows x 9 columns]"
      ]
     },
     "execution_count": 7,
     "metadata": {},
     "output_type": "execute_result"
    }
   ],
   "source": [
    "# Create a new dataframe with only exclusive TV shows as rows\n",
    "df2 = df.loc[(df[\"Netflix\"] + df[\"Hulu\"] + df[\"Prime Video\"] + df[\"Disney+\"]) == 1].copy()\n",
    "df2"
   ]
  },
  {
   "cell_type": "markdown",
   "metadata": {},
   "source": [
    "<h1>3. Data Analysis & Visualizations</h1>"
   ]
  },
  {
   "cell_type": "markdown",
   "metadata": {},
   "source": [
    "<h2>3.1. Examining Exclusive Shows</h2>"
   ]
  },
  {
   "cell_type": "markdown",
   "metadata": {},
   "source": [
    "Now we calculate the how many exclusive shows are on each platform, and each platform's average IMDb and Rotten Tomatoes ratings."
   ]
  },
  {
   "cell_type": "code",
   "execution_count": 8,
   "metadata": {},
   "outputs": [
    {
     "data": {
      "text/html": [
       "<div>\n",
       "<style scoped>\n",
       "    .dataframe tbody tr th:only-of-type {\n",
       "        vertical-align: middle;\n",
       "    }\n",
       "\n",
       "    .dataframe tbody tr th {\n",
       "        vertical-align: top;\n",
       "    }\n",
       "\n",
       "    .dataframe thead th {\n",
       "        text-align: right;\n",
       "    }\n",
       "</style>\n",
       "<table border=\"1\" class=\"dataframe\">\n",
       "  <thead>\n",
       "    <tr style=\"text-align: right;\">\n",
       "      <th></th>\n",
       "      <th>Platform</th>\n",
       "      <th>Count</th>\n",
       "      <th>Average IMDb</th>\n",
       "      <th>Average Rotten Tomatoes</th>\n",
       "    </tr>\n",
       "  </thead>\n",
       "  <tbody>\n",
       "    <tr>\n",
       "      <th>0</th>\n",
       "      <td>Netflix</td>\n",
       "      <td>419</td>\n",
       "      <td>7.467064</td>\n",
       "      <td>77.725537</td>\n",
       "    </tr>\n",
       "    <tr>\n",
       "      <th>1</th>\n",
       "      <td>Hulu</td>\n",
       "      <td>321</td>\n",
       "      <td>7.417757</td>\n",
       "      <td>77.158879</td>\n",
       "    </tr>\n",
       "    <tr>\n",
       "      <th>2</th>\n",
       "      <td>Prime Video</td>\n",
       "      <td>187</td>\n",
       "      <td>7.612299</td>\n",
       "      <td>76.283422</td>\n",
       "    </tr>\n",
       "    <tr>\n",
       "      <th>3</th>\n",
       "      <td>Disney+</td>\n",
       "      <td>21</td>\n",
       "      <td>7.333333</td>\n",
       "      <td>79.904762</td>\n",
       "    </tr>\n",
       "  </tbody>\n",
       "</table>\n",
       "</div>"
      ],
      "text/plain": [
       "      Platform  Count  Average IMDb  Average Rotten Tomatoes\n",
       "0      Netflix    419      7.467064                77.725537\n",
       "1         Hulu    321      7.417757                77.158879\n",
       "2  Prime Video    187      7.612299                76.283422\n",
       "3      Disney+     21      7.333333                79.904762"
      ]
     },
     "execution_count": 8,
     "metadata": {},
     "output_type": "execute_result"
    }
   ],
   "source": [
    "# Create new dataframe to store those statistics\n",
    "platforms = [\"Netflix\", \"Hulu\", \"Prime Video\", \"Disney+\"]\n",
    "lst = []\n",
    "for platform in platforms:\n",
    "    temp = []\n",
    "    temp.append(platform)\n",
    "    temp.append(df2[df2[platform] == 1][\"Title\"].count())\n",
    "    temp.append(df2[df2[platform] == 1][\"IMDb\"].mean())\n",
    "    temp.append(df2[df2[platform] == 1][\"Rotten Tomatoes\"].mean())\n",
    "    lst.append(temp)\n",
    "df3 = pd.DataFrame(lst, columns = [\"Platform\", \"Count\", \"Average IMDb\", \"Average Rotten Tomatoes\"])\n",
    "df3"
   ]
  },
  {
   "cell_type": "markdown",
   "metadata": {},
   "source": [
    "This table shows how many exclusive shows are on each platform, and their average IMDb and Rotten Tomatoes ratings.\n",
    "\n"
   ]
  },
  {
   "cell_type": "markdown",
   "metadata": {},
   "source": [
    "<h3>3.1.1. Number of exclusive shows</h3>"
   ]
  },
  {
   "cell_type": "markdown",
   "metadata": {},
   "source": [
    "Next, we will create a column chart to visualize the number of exclusive shows. "
   ]
  },
  {
   "cell_type": "code",
   "execution_count": 9,
   "metadata": {
    "scrolled": false
   },
   "outputs": [
    {
     "data": {
      "image/png": "[encoded data removed]",
      "text/plain": [
       "<Figure size 576x432 with 1 Axes>"
      ]
     },
     "metadata": {},
     "output_type": "display_data"
    }
   ],
   "source": [
    "# Using style called ggplot \n",
    "plt.style.use([\"ggplot\"])\n",
    "\n",
    "# Get colors from style\n",
    "color = []\n",
    "for i in range(4):\n",
    "    color.append(list(plt.rcParams['axes.prop_cycle'])[i]['color'])\n",
    "\n",
    "\n",
    "# Plot how many exclusive TV shows are on each platform, and each platform's porportion out of all exclusive shows\n",
    "x = \"Platform\"\n",
    "y = \"Count\"\n",
    "df3.sort_values(by = [y], ascending=False, inplace = True)\n",
    "\n",
    "plt.figure(figsize=(8,6))\n",
    "plt.xlabel(x)\n",
    "plt.ylabel(y)\n",
    "for i in range(len(df3[x])):\n",
    "    plt.text(i,df3[y][i],df3[y][i], ha = \"center\")\n",
    "plt.title(\"Figure 1. Number of Platform Exclusive Shows Based on Platform\")\n",
    "plt.bar(df3[x], df3[y], color = color)\n",
    "plt.show()"
   ]
  },
  {
   "cell_type": "markdown",
   "metadata": {},
   "source": [
    "Netflix has the most number of exclusive shows at 419, and Disney has the least at 21. One might expect quantity to be inversely proportional to quality, but that is not exactly the case here. Disney+ has the least exclusive titles, but also the highest average Rotten Tomatoes ratings and lowest average IMDb ratings. Netflox on the other hand with the most number of exclusive titles is in the middle of the pack in terms of both average ratings."
   ]
  },
  {
   "cell_type": "code",
   "execution_count": 10,
   "metadata": {},
   "outputs": [
    {
     "data": {
      "image/png": "[encoded data removed]",
      "text/plain": [
       "<Figure size 720x576 with 1 Axes>"
      ]
     },
     "metadata": {},
     "output_type": "display_data"
    }
   ],
   "source": [
    "plt.figure(figsize=(10,8))\n",
    "plt.title(\"Figure 2. Exclusive Shows\")\n",
    "plt.pie(df3[y], labels = df3[x], autopct = \"%1.1f%%\")\n",
    "plt.show() "
   ]
  },
  {
   "cell_type": "markdown",
   "metadata": {},
   "source": [
    "Pie chart can also be used to show each platform's proportion in terms of all the exclusive shows."
   ]
  },
  {
   "cell_type": "markdown",
   "metadata": {},
   "source": [
    "<h3>3.1.2. Average IMDb rating of platform exclusive TV shows</h3>"
   ]
  },
  {
   "cell_type": "code",
   "execution_count": 11,
   "metadata": {
    "scrolled": false
   },
   "outputs": [
    {
     "data": {
      "image/png": "[encoded data removed]",
      "text/plain": [
       "<Figure size 576x432 with 1 Axes>"
      ]
     },
     "metadata": {},
     "output_type": "display_data"
    }
   ],
   "source": [
    "# Plot the average IMDb rating of platform exclusive TV shows\n",
    "x = \"Platform\"\n",
    "y = \"Average IMDb\"\n",
    "\n",
    "plt.figure(figsize=(8,6))\n",
    "plt.xlabel(x)\n",
    "plt.ylabel(y)\n",
    "plt.ylim([0, 10])\n",
    "for i in range(len(df3[x])):\n",
    "    plt.text(i,df3[y][i],round(df3[y][i], 3), ha = \"center\")\n",
    "plt.title(\"Figure 3. Average IMDb Rating of Platform Exclusive Shows Based on Platform\")\n",
    "plt.bar(df3[x], df3[y], color = color)\n",
    "plt.show()"
   ]
  },
  {
   "cell_type": "code",
   "execution_count": 12,
   "metadata": {
    "scrolled": false
   },
   "outputs": [
    {
     "data": {
      "image/png": "[encoded data removed]",
      "text/plain": [
       "<Figure size 576x432 with 1 Axes>"
      ]
     },
     "metadata": {},
     "output_type": "display_data"
    }
   ],
   "source": [
    "# Shift the axis to better show the difference\n",
    "x = \"Platform\"\n",
    "y = \"Average IMDb\"\n",
    "\n",
    "plt.figure(figsize=(8,6))\n",
    "plt.xlabel(x)\n",
    "plt.ylabel(y)\n",
    "plt.ylim([7, 8])\n",
    "for i in range(len(df3[x])):\n",
    "    plt.text(i,df3[y][i],round(df3[y][i], 3), ha = \"center\")\n",
    "plt.title(\"Figure 4. Average IMDb Rating of Platform Exclusive Shows Based on Platform\")\n",
    "plt.bar(df3[x], df3[y], color = color)\n",
    "plt.show()"
   ]
  },
  {
   "cell_type": "markdown",
   "metadata": {},
   "source": [
    "Prime Video has the highest average IMDb rating, and Disney has the lowest."
   ]
  },
  {
   "cell_type": "markdown",
   "metadata": {},
   "source": [
    "<h3>3.1.3. Average Rotten Tomatoes rating of platform exclusive TV shows</h3>"
   ]
  },
  {
   "cell_type": "code",
   "execution_count": 13,
   "metadata": {
    "scrolled": false
   },
   "outputs": [
    {
     "data": {
      "image/png": "[encoded data removed]",
      "text/plain": [
       "<Figure size 576x432 with 1 Axes>"
      ]
     },
     "metadata": {},
     "output_type": "display_data"
    }
   ],
   "source": [
    "# Plot the average Rotten Tomatoes rating of platform exclusive TV shows\n",
    "x = \"Platform\"\n",
    "y = \"Average Rotten Tomatoes\"\n",
    "\n",
    "plt.figure(figsize=(8,6))\n",
    "plt.xlabel(x)\n",
    "plt.ylabel(\"Average Rotten Tomatoes Rating\")\n",
    "plt.ylim([0, 100])\n",
    "for i in range(len(df3[x])):\n",
    "    plt.text(i,df3[y][i],round(df3[y][i], 3), ha = \"center\")\n",
    "plt.title(\"Figure 5. Average Rotten Tomatoes Rating of Platform Exclusive Shows Based on Platform\")\n",
    "plt.bar(df3[x], df3[y], color = color)\n",
    "plt.show()"
   ]
  },
  {
   "cell_type": "code",
   "execution_count": 14,
   "metadata": {
    "scrolled": false
   },
   "outputs": [
    {
     "data": {
      "image/png": "[encoded data removed]",
      "text/plain": [
       "<Figure size 576x432 with 1 Axes>"
      ]
     },
     "metadata": {},
     "output_type": "display_data"
    }
   ],
   "source": [
    "# Shift the axis to better show the difference\n",
    "x = \"Platform\"\n",
    "y = \"Average Rotten Tomatoes\"\n",
    "\n",
    "plt.figure(figsize=(8,6))\n",
    "plt.xlabel(x)\n",
    "plt.ylabel(y)\n",
    "plt.ylim([70, 84])\n",
    "for i in range(len(df3[x])):\n",
    "    plt.text(i,df3[y][i],round(df3[y][i], 3), ha = \"center\")\n",
    "plt.title(\"Figure 6. Average Rotten Tomatoes Rating of Platform Exclusive Shows Based on Platform\")\n",
    "plt.bar(df3[x], df3[y], color = color)\n",
    "plt.show()"
   ]
  },
  {
   "cell_type": "markdown",
   "metadata": {},
   "source": [
    "Disney+ has the highest Average Rotten Tomatoes rating and Prime Video has the lowest."
   ]
  },
  {
   "cell_type": "markdown",
   "metadata": {},
   "source": [
    "<h2>3.2. Examining Correlation between IMDb and Rotten Tomatoes</h2>"
   ]
  },
  {
   "cell_type": "markdown",
   "metadata": {},
   "source": [
    "<h3>3.2.1. Correlation from all TV shows</h3>"
   ]
  },
  {
   "cell_type": "markdown",
   "metadata": {},
   "source": [
    "We will now look at the correlation between IMDb and Rotten Tomatoes. Going back to our dataset before we separated all the exclusive TV shows."
   ]
  },
  {
   "cell_type": "code",
   "execution_count": 15,
   "metadata": {
    "scrolled": false
   },
   "outputs": [
    {
     "data": {
      "text/html": [
       "<div>\n",
       "<style scoped>\n",
       "    .dataframe tbody tr th:only-of-type {\n",
       "        vertical-align: middle;\n",
       "    }\n",
       "\n",
       "    .dataframe tbody tr th {\n",
       "        vertical-align: top;\n",
       "    }\n",
       "\n",
       "    .dataframe thead th {\n",
       "        text-align: right;\n",
       "    }\n",
       "</style>\n",
       "<table border=\"1\" class=\"dataframe\">\n",
       "  <thead>\n",
       "    <tr style=\"text-align: right;\">\n",
       "      <th></th>\n",
       "      <th>Year</th>\n",
       "      <th>IMDb</th>\n",
       "      <th>Rotten Tomatoes</th>\n",
       "      <th>Netflix</th>\n",
       "      <th>Hulu</th>\n",
       "      <th>Prime Video</th>\n",
       "      <th>Disney+</th>\n",
       "    </tr>\n",
       "  </thead>\n",
       "  <tbody>\n",
       "    <tr>\n",
       "      <th>Year</th>\n",
       "      <td>1.000000</td>\n",
       "      <td>-0.227022</td>\n",
       "      <td>-0.064857</td>\n",
       "      <td>0.191534</td>\n",
       "      <td>-0.210033</td>\n",
       "      <td>-0.211939</td>\n",
       "      <td>-0.014959</td>\n",
       "    </tr>\n",
       "    <tr>\n",
       "      <th>IMDb</th>\n",
       "      <td>-0.227022</td>\n",
       "      <td>1.000000</td>\n",
       "      <td>0.488869</td>\n",
       "      <td>0.008180</td>\n",
       "      <td>-0.008364</td>\n",
       "      <td>0.083209</td>\n",
       "      <td>-0.009926</td>\n",
       "    </tr>\n",
       "    <tr>\n",
       "      <th>Rotten Tomatoes</th>\n",
       "      <td>-0.064857</td>\n",
       "      <td>0.488869</td>\n",
       "      <td>1.000000</td>\n",
       "      <td>0.017376</td>\n",
       "      <td>0.017937</td>\n",
       "      <td>-0.012721</td>\n",
       "      <td>0.028001</td>\n",
       "    </tr>\n",
       "    <tr>\n",
       "      <th>Netflix</th>\n",
       "      <td>0.191534</td>\n",
       "      <td>0.008180</td>\n",
       "      <td>0.017376</td>\n",
       "      <td>1.000000</td>\n",
       "      <td>-0.577131</td>\n",
       "      <td>-0.408653</td>\n",
       "      <td>-0.141378</td>\n",
       "    </tr>\n",
       "    <tr>\n",
       "      <th>Hulu</th>\n",
       "      <td>-0.210033</td>\n",
       "      <td>-0.008364</td>\n",
       "      <td>0.017937</td>\n",
       "      <td>-0.577131</td>\n",
       "      <td>1.000000</td>\n",
       "      <td>-0.254863</td>\n",
       "      <td>-0.079816</td>\n",
       "    </tr>\n",
       "    <tr>\n",
       "      <th>Prime Video</th>\n",
       "      <td>-0.211939</td>\n",
       "      <td>0.083209</td>\n",
       "      <td>-0.012721</td>\n",
       "      <td>-0.408653</td>\n",
       "      <td>-0.254863</td>\n",
       "      <td>1.000000</td>\n",
       "      <td>-0.083718</td>\n",
       "    </tr>\n",
       "    <tr>\n",
       "      <th>Disney+</th>\n",
       "      <td>-0.014959</td>\n",
       "      <td>-0.009926</td>\n",
       "      <td>0.028001</td>\n",
       "      <td>-0.141378</td>\n",
       "      <td>-0.079816</td>\n",
       "      <td>-0.083718</td>\n",
       "      <td>1.000000</td>\n",
       "    </tr>\n",
       "  </tbody>\n",
       "</table>\n",
       "</div>"
      ],
      "text/plain": [
       "                     Year      IMDb  Rotten Tomatoes   Netflix      Hulu  \\\n",
       "Year             1.000000 -0.227022        -0.064857  0.191534 -0.210033   \n",
       "IMDb            -0.227022  1.000000         0.488869  0.008180 -0.008364   \n",
       "Rotten Tomatoes -0.064857  0.488869         1.000000  0.017376  0.017937   \n",
       "Netflix          0.191534  0.008180         0.017376  1.000000 -0.577131   \n",
       "Hulu            -0.210033 -0.008364         0.017937 -0.577131  1.000000   \n",
       "Prime Video     -0.211939  0.083209        -0.012721 -0.408653 -0.254863   \n",
       "Disney+         -0.014959 -0.009926         0.028001 -0.141378 -0.079816   \n",
       "\n",
       "                 Prime Video   Disney+  \n",
       "Year               -0.211939 -0.014959  \n",
       "IMDb                0.083209 -0.009926  \n",
       "Rotten Tomatoes    -0.012721  0.028001  \n",
       "Netflix            -0.408653 -0.141378  \n",
       "Hulu               -0.254863 -0.079816  \n",
       "Prime Video         1.000000 -0.083718  \n",
       "Disney+            -0.083718  1.000000  "
      ]
     },
     "execution_count": 15,
     "metadata": {},
     "output_type": "execute_result"
    }
   ],
   "source": [
    "# Examine the correlation between IMDb and Rotten Tomatoes\n",
    "df.corr()"
   ]
  },
  {
   "cell_type": "markdown",
   "metadata": {},
   "source": [
    "This table shows the correlation values for each columns within our dataframe. The correlation value between IMDb and Rotten Tomatoes is 0.488869, which indicates a positive correlation, but not a strong one.\n",
    "\n",
    "\n",
    "We can also plot IMDb vs Rotten Tomatoes on a regression plot, complete with a regression line."
   ]
  },
  {
   "cell_type": "code",
   "execution_count": 16,
   "metadata": {},
   "outputs": [
    {
     "data": {
      "text/plain": [
       "LinearRegression()"
      ]
     },
     "execution_count": 16,
     "metadata": {},
     "output_type": "execute_result"
    }
   ],
   "source": [
    "lm = LinearRegression()\n",
    "lm.fit(df[[\"IMDb\"]], df[\"Rotten Tomatoes\"])"
   ]
  },
  {
   "cell_type": "code",
   "execution_count": 17,
   "metadata": {},
   "outputs": [
    {
     "data": {
      "image/png": "[encoded data removed]",
      "text/plain": [
       "<Figure size 720x576 with 1 Axes>"
      ]
     },
     "metadata": {},
     "output_type": "display_data"
    }
   ],
   "source": [
    "sns.set(rc={\"figure.figsize\":(10, 8)})\n",
    "ax = sns.regplot(x = \"IMDb\", y = \"Rotten Tomatoes\", data = df, \n",
    "                 line_kws={\"label\":\"y = {0:.2f}x {1:.2f}\".format(lm.coef_[0],lm.intercept_)})\n",
    "ax.legend()\n",
    "ax.set(title = \"Figure 7. IMDb vs. Rotten Tomatoes\")\n",
    "plt.show()"
   ]
  },
  {
   "cell_type": "markdown",
   "metadata": {},
   "source": [
    "Again, there appear to be a positive correlation due to the positive slope, but the dots are scattered on both side of the line so it cannot be a strong correlation."
   ]
  },
  {
   "cell_type": "markdown",
   "metadata": {},
   "source": [
    "<h3>3.2.2 Correlation from exclusive TV shows</h3>"
   ]
  },
  {
   "cell_type": "markdown",
   "metadata": {},
   "source": [
    "We can examine the correlation between IMDb and Rotten Tomatoes for the exclusive shows as well. "
   ]
  },
  {
   "cell_type": "code",
   "execution_count": 18,
   "metadata": {
    "scrolled": false
   },
   "outputs": [
    {
     "data": {
      "text/html": [
       "<div>\n",
       "<style scoped>\n",
       "    .dataframe tbody tr th:only-of-type {\n",
       "        vertical-align: middle;\n",
       "    }\n",
       "\n",
       "    .dataframe tbody tr th {\n",
       "        vertical-align: top;\n",
       "    }\n",
       "\n",
       "    .dataframe thead th {\n",
       "        text-align: right;\n",
       "    }\n",
       "</style>\n",
       "<table border=\"1\" class=\"dataframe\">\n",
       "  <thead>\n",
       "    <tr style=\"text-align: right;\">\n",
       "      <th></th>\n",
       "      <th>Year</th>\n",
       "      <th>IMDb</th>\n",
       "      <th>Rotten Tomatoes</th>\n",
       "      <th>Netflix</th>\n",
       "      <th>Hulu</th>\n",
       "      <th>Prime Video</th>\n",
       "      <th>Disney+</th>\n",
       "    </tr>\n",
       "  </thead>\n",
       "  <tbody>\n",
       "    <tr>\n",
       "      <th>Year</th>\n",
       "      <td>1.000000</td>\n",
       "      <td>-0.200335</td>\n",
       "      <td>-0.044932</td>\n",
       "      <td>0.261552</td>\n",
       "      <td>-0.143727</td>\n",
       "      <td>-0.152202</td>\n",
       "      <td>-0.008904</td>\n",
       "    </tr>\n",
       "    <tr>\n",
       "      <th>IMDb</th>\n",
       "      <td>-0.200335</td>\n",
       "      <td>1.000000</td>\n",
       "      <td>0.481780</td>\n",
       "      <td>-0.008411</td>\n",
       "      <td>-0.043849</td>\n",
       "      <td>0.070996</td>\n",
       "      <td>-0.022581</td>\n",
       "    </tr>\n",
       "    <tr>\n",
       "      <th>Rotten Tomatoes</th>\n",
       "      <td>-0.044932</td>\n",
       "      <td>0.481780</td>\n",
       "      <td>1.000000</td>\n",
       "      <td>0.018373</td>\n",
       "      <td>-0.004782</td>\n",
       "      <td>-0.024243</td>\n",
       "      <td>0.018926</td>\n",
       "    </tr>\n",
       "    <tr>\n",
       "      <th>Netflix</th>\n",
       "      <td>0.261552</td>\n",
       "      <td>-0.008411</td>\n",
       "      <td>0.018373</td>\n",
       "      <td>1.000000</td>\n",
       "      <td>-0.636792</td>\n",
       "      <td>-0.441172</td>\n",
       "      <td>-0.133952</td>\n",
       "    </tr>\n",
       "    <tr>\n",
       "      <th>Hulu</th>\n",
       "      <td>-0.143727</td>\n",
       "      <td>-0.043849</td>\n",
       "      <td>-0.004782</td>\n",
       "      <td>-0.636792</td>\n",
       "      <td>1.000000</td>\n",
       "      <td>-0.354689</td>\n",
       "      <td>-0.107693</td>\n",
       "    </tr>\n",
       "    <tr>\n",
       "      <th>Prime Video</th>\n",
       "      <td>-0.152202</td>\n",
       "      <td>0.070996</td>\n",
       "      <td>-0.024243</td>\n",
       "      <td>-0.441172</td>\n",
       "      <td>-0.354689</td>\n",
       "      <td>1.000000</td>\n",
       "      <td>-0.074610</td>\n",
       "    </tr>\n",
       "    <tr>\n",
       "      <th>Disney+</th>\n",
       "      <td>-0.008904</td>\n",
       "      <td>-0.022581</td>\n",
       "      <td>0.018926</td>\n",
       "      <td>-0.133952</td>\n",
       "      <td>-0.107693</td>\n",
       "      <td>-0.074610</td>\n",
       "      <td>1.000000</td>\n",
       "    </tr>\n",
       "  </tbody>\n",
       "</table>\n",
       "</div>"
      ],
      "text/plain": [
       "                     Year      IMDb  Rotten Tomatoes   Netflix      Hulu  \\\n",
       "Year             1.000000 -0.200335        -0.044932  0.261552 -0.143727   \n",
       "IMDb            -0.200335  1.000000         0.481780 -0.008411 -0.043849   \n",
       "Rotten Tomatoes -0.044932  0.481780         1.000000  0.018373 -0.004782   \n",
       "Netflix          0.261552 -0.008411         0.018373  1.000000 -0.636792   \n",
       "Hulu            -0.143727 -0.043849        -0.004782 -0.636792  1.000000   \n",
       "Prime Video     -0.152202  0.070996        -0.024243 -0.441172 -0.354689   \n",
       "Disney+         -0.008904 -0.022581         0.018926 -0.133952 -0.107693   \n",
       "\n",
       "                 Prime Video   Disney+  \n",
       "Year               -0.152202 -0.008904  \n",
       "IMDb                0.070996 -0.022581  \n",
       "Rotten Tomatoes    -0.024243  0.018926  \n",
       "Netflix            -0.441172 -0.133952  \n",
       "Hulu               -0.354689 -0.107693  \n",
       "Prime Video         1.000000 -0.074610  \n",
       "Disney+            -0.074610  1.000000  "
      ]
     },
     "execution_count": 18,
     "metadata": {},
     "output_type": "execute_result"
    }
   ],
   "source": [
    "# Examine the correlation between IMDb and Rotten Tomatoes of exclusive shows\n",
    "df2.corr()"
   ]
  },
  {
   "cell_type": "markdown",
   "metadata": {},
   "source": [
    "The correlation value between IMDb and Rotten Tomatoes for exclusive shows is 0.481780, which indicates a positive correlation, but not a strong one either."
   ]
  },
  {
   "cell_type": "code",
   "execution_count": 19,
   "metadata": {},
   "outputs": [
    {
     "data": {
      "image/png": "[encoded data removed]",
      "text/plain": [
       "<Figure size 720x576 with 1 Axes>"
      ]
     },
     "metadata": {},
     "output_type": "display_data"
    }
   ],
   "source": [
    "lm = LinearRegression()\n",
    "lm.fit(df2[[\"IMDb\"]], df2[\"Rotten Tomatoes\"])\n",
    "\n",
    "sns.set(rc={\"figure.figsize\":(10, 8)})\n",
    "ax = sns.regplot(x = \"IMDb\", y = \"Rotten Tomatoes\", data = df2, \n",
    "                 line_kws={\"label\":\"y = {0:.2f}x {1:.2f}\".format(lm.coef_[0],lm.intercept_)})\n",
    "ax.legend()\n",
    "ax.set(title = \"Figure 8. IMDb vs. Rotten Tomatoes of Exclusive Shows\")\n",
    "plt.show()"
   ]
  },
  {
   "cell_type": "markdown",
   "metadata": {},
   "source": [
    "The regression plot of exclusive shows is similar to all shows, with a 0.02 reduction in slope and 0.17 increase in y-intercept. There is a positive correlation, but not a strong one."
   ]
  },
  {
   "cell_type": "markdown",
   "metadata": {},
   "source": [
    "<h1>4. Conclusion</h1>"
   ]
  },
  {
   "cell_type": "markdown",
   "metadata": {},
   "source": [
    "We examined four streaming platforms, and found that Netflix has the most number of exclusive shows with 421, and Disney+ has the least with 21. For the average IMDb ratings, Prime Video is the highest with 7.6, and Disney+ with the lowest with 7.3. However, for the average Rotten Tomatoes ratings, Disney+ is the highest with 79.9, and Prime Video is the lowest with 76.3. For quantity, subscribing to Netflix will allow us to get access to the most number of exclusive shows. As for quality, there is no clear winner. Rather, we should make our decision by looking at specific exclusive titles we are interested in since the variances in average ratings are small."
   ]
  },
  {
   "cell_type": "markdown",
   "metadata": {},
   "source": [
    "We also looked at the correlation between IMDb and Rotten Tomatoes ratings of all shows and just exclusive shows. The results were similar, both demonstrating positive correlations, thou they are not strong. From the regression plots, we can see that there are many dots on either side of the regression line. This implied that both sites have a number of reviews with different conclusions and they are not saying the same things about the shows. It should still be a good idea to give both sites a visit when looking for reviews."
   ]
  }
 ],
 "metadata": {
  "kernelspec": {
   "display_name": "Python 3",
   "language": "python",
   "name": "python3"
  },
  "language_info": {
   "codemirror_mode": {
    "name": "ipython",
    "version": 3
   },
   "file_extension": ".py",
   "mimetype": "text/x-python",
   "name": "python",
   "nbconvert_exporter": "python",
   "pygments_lexer": "ipython3",
   "version": "3.8.5"
  }
 },
 "nbformat": 4,
 "nbformat_minor": 4
}
